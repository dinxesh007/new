{
 "cells": [
  {
   "cell_type": "code",
   "execution_count": null,
   "id": "9af56b59",
   "metadata": {
    "vscode": {
     "languageId": "plaintext"
    }
   },
   "outputs": [],
   "source": [
    "hello mam \n",
    "iam not a student from ur class\n"
   ]
  }
 ],
 "metadata": {
  "language_info": {
   "name": "python"
  }
 },
 "nbformat": 4,
 "nbformat_minor": 5
}
